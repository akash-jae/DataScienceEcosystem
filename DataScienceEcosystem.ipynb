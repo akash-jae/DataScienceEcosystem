{
 "cells": [
  {
   "cell_type": "markdown",
   "id": "25539865-647e-4f5f-bb88-34f87d35c811",
   "metadata": {},
   "source": [
    "Data Science Tools and Ecosystem"
   ]
  },
  {
   "cell_type": "markdown",
   "id": "c6fc5da2-363c-482b-8d0e-465bfb71447e",
   "metadata": {},
   "source": [
    "In this notebook, Data Science Tools and Ecosystem are summarized."
   ]
  },
  {
   "cell_type": "markdown",
   "id": "700f349c-54ab-4b9b-b057-cf6fdf512076",
   "metadata": {},
   "source": [
    "Some of the popular languages that Data Scientists use are:\n",
    "\n",
    "1. Python\n",
    "2. R\n",
    "3. SQL\n",
    "4. Julia"
   ]
  },
  {
   "cell_type": "markdown",
   "id": "c10bb696-995b-45c4-8375-10760d787f26",
   "metadata": {},
   "source": [
    "Some of the commonly used libraries used by Data Scientists include:\n",
    "\n",
    "1. Pandas\n",
    "2. NumPy\n",
    "3. Matplotlib\n",
    "4. Scikit-learn"
   ]
  },
  {
   "cell_type": "markdown",
   "id": "c8d81d59-2806-4de8-acbf-5810bdf338f0",
   "metadata": {},
   "source": [
    "| Data Science Tools   |\r\n",
    "|----------------------|\r\n",
    "| Jupyter Notebook      |\r\n",
    "| RStudio               |\r\n",
    "| Apache Zeppelin       |\r\n"
   ]
  },
  {
   "cell_type": "markdown",
   "id": "c7e52a48-f640-4612-a2c3-0215caa5c71a",
   "metadata": {},
   "source": [
    "### Below are a few examples of evaluating arithmetic expressions in Python.\r\n"
   ]
  },
  {
   "cell_type": "code",
   "execution_count": 3,
   "id": "d5de22cd-b7a0-4bff-9c64-c30cfd0dbdf2",
   "metadata": {},
   "outputs": [
    {
     "data": {
      "text/plain": [
       "17"
      ]
     },
     "execution_count": 3,
     "metadata": {},
     "output_type": "execute_result"
    }
   ],
   "source": [
    "(3*4)+5"
   ]
  },
  {
   "cell_type": "code",
   "execution_count": 4,
   "id": "08d71cda-374a-437c-a94d-b829edcdfe7b",
   "metadata": {},
   "outputs": [
    {
     "data": {
      "text/plain": [
       "3.3333333333333335"
      ]
     },
     "execution_count": 4,
     "metadata": {},
     "output_type": "execute_result"
    }
   ],
   "source": [
    "# This will convert 200 minutes to hours by dividing by 60\n",
    "minutes = 200\n",
    "hours = minutes / 60\n",
    "hours\n"
   ]
  },
  {
   "cell_type": "markdown",
   "id": "143fbbd1-bd33-43d6-b591-38343e04677e",
   "metadata": {},
   "source": [
    "**Objectives:**\r\n",
    "- List popular languages for Data Science.\r\n",
    "- Identify commonly used libraries in Data Science.\r\n",
    "- Create tables to organize Data Science tools.\r\n",
    "- Evaluate arithmetic expressions in Python.\r\n",
    "- Understand the data science ecosystem.\r\n"
   ]
  },
  {
   "cell_type": "markdown",
   "id": "6a485a45-2204-4b3c-ae77-3034f0685095",
   "metadata": {},
   "source": [
    "## Author\r",
    "Akash Jadhave\r\n",
    "\n"
   ]
  },
  {
   "cell_type": "code",
   "execution_count": null,
   "id": "37add7d3-8850-4dbc-b4cb-8a16cbbdcff5",
   "metadata": {},
   "outputs": [],
   "source": []
  }
 ],
 "metadata": {
  "kernelspec": {
   "display_name": "Python 3 (ipykernel)",
   "language": "python",
   "name": "python3"
  },
  "language_info": {
   "codemirror_mode": {
    "name": "ipython",
    "version": 3
   },
   "file_extension": ".py",
   "mimetype": "text/x-python",
   "name": "python",
   "nbconvert_exporter": "python",
   "pygments_lexer": "ipython3",
   "version": "3.12.4"
  }
 },
 "nbformat": 4,
 "nbformat_minor": 5
}
